{
 "cells": [
  {
   "cell_type": "markdown",
   "metadata": {},
   "source": [
    "# Cut Photos"
   ]
  },
  {
   "cell_type": "code",
   "execution_count": null,
   "metadata": {},
   "outputs": [],
   "source": [
    "from cut_photo import (\n",
    "    cut_image, \n",
    "    display_images_in_grid,\n",
    "    create_grid_image,\n",
    "    # download_wikipedia_image\n",
    ")"
   ]
  },
  {
   "cell_type": "code",
   "execution_count": null,
   "metadata": {},
   "outputs": [],
   "source": [
    "# Download the image once\n",
    "# download_wikipedia_image(\n",
    "#     image_url=\"https://upload.wikimedia.org/wikipedia/commons/6/66/Bern_007_%2835250800705%29.jpg\",\n",
    "#     output_path=\"./bern.jpg\"\n",
    "# )"
   ]
  },
  {
   "cell_type": "code",
   "execution_count": null,
   "metadata": {},
   "outputs": [],
   "source": [
    "cut_image(\n",
    "    image_path='./bern.jpg',\n",
    "    nx=5, ny=5,\n",
    "    output_dir='./outputs/bern/'\n",
    ")"
   ]
  },
  {
   "cell_type": "code",
   "execution_count": null,
   "metadata": {},
   "outputs": [],
   "source": [
    "display_images_in_grid(\n",
    "    image_dir='./outputs/bern/print',\n",
    "    nx=5, ny=5\n",
    ")"
   ]
  },
  {
   "cell_type": "code",
   "execution_count": null,
   "metadata": {},
   "outputs": [],
   "source": [
    "create_grid_image(\n",
    "    image_dir='./outputs/bern',\n",
    "    nx=5, ny=5,\n",
    "    spacing=40,\n",
    "    output_path='./outputs/bern_nx5_ny5_sp40.jpg'\n",
    ")"
   ]
  },
  {
   "cell_type": "markdown",
   "metadata": {},
   "source": [
    "# Arrange photos on paper"
   ]
  },
  {
   "cell_type": "code",
   "execution_count": null,
   "metadata": {},
   "outputs": [],
   "source": [
    "from image_page import check_image_sizes, create_printable_images"
   ]
  },
  {
   "cell_type": "code",
   "execution_count": null,
   "metadata": {},
   "outputs": [],
   "source": [
    "check_image_sizes(file_pattern=\"./outputs/bern/bern_*.png\")"
   ]
  },
  {
   "cell_type": "code",
   "execution_count": null,
   "metadata": {},
   "outputs": [],
   "source": [
    "create_printable_images(\n",
    "    file_pattern=\"./outputs/bern/bern_*.png\",\n",
    "    paper_size='a2',\n",
    "    image_size_mm=91,\n",
    "    size_type='height',\n",
    "    spacing_mm=5,\n",
    "    output_dir='./outputs/bern/print_a2/'\n",
    ")"
   ]
  },
  {
   "cell_type": "code",
   "execution_count": null,
   "metadata": {},
   "outputs": [],
   "source": []
  }
 ],
 "metadata": {
  "kernelspec": {
   "display_name": "Python 3",
   "language": "python",
   "name": "python3"
  },
  "language_info": {
   "codemirror_mode": {
    "name": "ipython",
    "version": 3
   },
   "file_extension": ".py",
   "mimetype": "text/x-python",
   "name": "python",
   "nbconvert_exporter": "python",
   "pygments_lexer": "ipython3",
   "version": "3.9.6"
  }
 },
 "nbformat": 4,
 "nbformat_minor": 2
}
